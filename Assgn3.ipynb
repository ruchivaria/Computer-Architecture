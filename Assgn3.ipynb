{
 "cells": [
  {
   "cell_type": "code",
   "execution_count": 28,
   "id": "6013a21e",
   "metadata": {},
   "outputs": [],
   "source": [
    "from memory_profiler import profile\n",
    "import numpy as np\n",
    "import random"
   ]
  },
  {
   "cell_type": "code",
   "execution_count": 29,
   "id": "85e84dda",
   "metadata": {},
   "outputs": [],
   "source": [
    "b=np.random.randint(1,10,10000)\n",
    "c=np.random.randint(1,10,10000)\n",
    "a=np.random.randint(1,10, size = (10000,10000))"
   ]
  },
  {
   "cell_type": "code",
   "execution_count": 30,
   "id": "a47be7b0",
   "metadata": {},
   "outputs": [],
   "source": [
    "import tracemalloc"
   ]
  },
  {
   "cell_type": "code",
   "execution_count": 31,
   "id": "9aa9647d",
   "metadata": {},
   "outputs": [
    {
     "name": "stdout",
     "output_type": "stream",
     "text": [
      "10.5 µs ± 319 ns per loop (mean ± std. dev. of 7 runs, 100000 loops each)\n"
     ]
    }
   ],
   "source": [
    "%%timeit\n",
    "@profile\n",
    "def functionA():\n",
    "\tfor I in range(1,10000):\n",
    "\t\tfor J in range(1,10000):\n",
    "\t\t\tc[J] = c[J] + a[I,J] * b[J]\n",
    "            "
   ]
  },
  {
   "cell_type": "code",
   "execution_count": 32,
   "id": "3604a7dc",
   "metadata": {},
   "outputs": [
    {
     "name": "stdout",
     "output_type": "stream",
     "text": [
      "ERROR: Could not find file <timed exec>\n",
      "(400436475, 400477697)\n"
     ]
    }
   ],
   "source": [
    "# starting the monitoring\n",
    "tracemalloc.start()\n",
    "  \n",
    "# function call\n",
    "functionA()\n",
    "  \n",
    "# displaying the memory\n",
    "print(tracemalloc.get_traced_memory())\n",
    "  \n",
    "# stopping the library\n",
    "tracemalloc.stop()"
   ]
  },
  {
   "cell_type": "code",
   "execution_count": 22,
   "id": "0951a1ce",
   "metadata": {},
   "outputs": [
    {
     "name": "stdout",
     "output_type": "stream",
     "text": [
      "12.8 µs ± 489 ns per loop (mean ± std. dev. of 7 runs, 100000 loops each)\n"
     ]
    }
   ],
   "source": [
    "%%timeit\n",
    "@profile\n",
    "def functionB():\n",
    "\tfor J in range(1,10000):\n",
    "\t\tfor I in range(1,10000):\n",
    "\t\t\tc[J] = c[J] + a[I,J] * b[J]"
   ]
  },
  {
   "cell_type": "code",
   "execution_count": 18,
   "id": "6da655e1",
   "metadata": {},
   "outputs": [
    {
     "name": "stdout",
     "output_type": "stream",
     "text": [
      "ERROR: Could not find file C:\\Users\\RUCHIV~1\\AppData\\Local\\Temp/ipykernel_35408/4179110032.py\n",
      "ERROR: Could not find file C:\\Users\\RUCHIV~1\\AppData\\Local\\Temp/ipykernel_35408/2589818599.py\n"
     ]
    }
   ],
   "source": [
    "functionA()\n",
    "functionB()"
   ]
  },
  {
   "cell_type": "code",
   "execution_count": null,
   "id": "696ac98f",
   "metadata": {},
   "outputs": [],
   "source": []
  }
 ],
 "metadata": {
  "kernelspec": {
   "display_name": "Python 3 (ipykernel)",
   "language": "python",
   "name": "python3"
  },
  "language_info": {
   "codemirror_mode": {
    "name": "ipython",
    "version": 3
   },
   "file_extension": ".py",
   "mimetype": "text/x-python",
   "name": "python",
   "nbconvert_exporter": "python",
   "pygments_lexer": "ipython3",
   "version": "3.8.12"
  }
 },
 "nbformat": 4,
 "nbformat_minor": 5
}
